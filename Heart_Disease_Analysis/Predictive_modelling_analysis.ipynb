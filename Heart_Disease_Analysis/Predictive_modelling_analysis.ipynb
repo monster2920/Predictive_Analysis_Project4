{
 "cells": [
  {
   "cell_type": "markdown",
   "metadata": {
    "id": "3ILYsrYNcd_J"
   },
   "source": [
    "## PROJECT 4: PREDICTIVE MODEL ANALYSIS\n",
    "\n",
    "**INTRODUCTION**\n",
    "\n",
    "Project 4 extends the analysis from project 3 by using\n",
    "\n",
    "**A predictive model using sckit-learn to answer a new research questions:**\n",
    "\n",
    "**Defining Research Questions:**\n",
    "\n",
    "1. Can we accurately predict the presence of heart disease in patients based on variables such as age, sex, chest pain type (cp), resting blood pressure (trestbps), cholesterol levels (chol), fasting blood sugar (fbs), resting electrocardiographic results (restecg), maximum heart rate achieved (thalach), exercise-induced angina (exang), ST depression induced by exercise relative to rest (oldpeak), the slope of the peak exercise ST segment (slope), number of major vessels colored by fluoroscopy (ca), and thallium stress test results (thal)?\n",
    "\n",
    "2. How do age and gender influence the severity of heart disease, as indicated by the number of major vessels affected (ca) and the thallium stress test results (thal)?\n",
    "\n",
    "\n",
    "**For the First Research Question (Predictive Model Analysis)**\n",
    "\n",
    "We'll use the pipeline and cross-validation approach to build and evaluate a predictive model. This model aims to predict the presence of heart disease based on various patient characteristics and test results. The target variable for this model needs to be clarified (e.g., a binary indicator of heart disease presence).\n",
    "For the Second Research Question (Exploratory Data Analysis):\n",
    "\n",
    "We'll conduct an analysis focusing on the impact of age and gender on the severity of heart disease. This involves visualizations and statistical tests to understand the relationship between these variables and heart disease severity indicators (like the number of major vessels affected)."
   ]
  },
  {
   "cell_type": "code",
   "execution_count": 31,
   "metadata": {
    "colab": {
     "base_uri": "https://localhost:8080/",
     "height": 206
    },
    "id": "wp_zLe9LgPH1",
    "outputId": "b001c932-a9a2-4853-ba92-621ef38da661"
   },
   "outputs": [
    {
     "data": {
      "text/html": [
       "<div>\n",
       "<style scoped>\n",
       "    .dataframe tbody tr th:only-of-type {\n",
       "        vertical-align: middle;\n",
       "    }\n",
       "\n",
       "    .dataframe tbody tr th {\n",
       "        vertical-align: top;\n",
       "    }\n",
       "\n",
       "    .dataframe thead th {\n",
       "        text-align: right;\n",
       "    }\n",
       "</style>\n",
       "<table border=\"1\" class=\"dataframe\">\n",
       "  <thead>\n",
       "    <tr style=\"text-align: right;\">\n",
       "      <th></th>\n",
       "      <th>Unnamed: 0</th>\n",
       "      <th>age</th>\n",
       "      <th>sex</th>\n",
       "      <th>cp</th>\n",
       "      <th>trestbps</th>\n",
       "      <th>chol</th>\n",
       "      <th>fbs</th>\n",
       "      <th>restecg</th>\n",
       "      <th>thalach</th>\n",
       "      <th>exang</th>\n",
       "      <th>oldpeak</th>\n",
       "      <th>slope</th>\n",
       "      <th>ca</th>\n",
       "      <th>thal</th>\n",
       "    </tr>\n",
       "  </thead>\n",
       "  <tbody>\n",
       "    <tr>\n",
       "      <th>0</th>\n",
       "      <td>0</td>\n",
       "      <td>63</td>\n",
       "      <td>1</td>\n",
       "      <td>1</td>\n",
       "      <td>145</td>\n",
       "      <td>233</td>\n",
       "      <td>1</td>\n",
       "      <td>2</td>\n",
       "      <td>150</td>\n",
       "      <td>0</td>\n",
       "      <td>2.3</td>\n",
       "      <td>3</td>\n",
       "      <td>0.0</td>\n",
       "      <td>6.0</td>\n",
       "    </tr>\n",
       "    <tr>\n",
       "      <th>1</th>\n",
       "      <td>1</td>\n",
       "      <td>67</td>\n",
       "      <td>1</td>\n",
       "      <td>4</td>\n",
       "      <td>160</td>\n",
       "      <td>286</td>\n",
       "      <td>0</td>\n",
       "      <td>2</td>\n",
       "      <td>108</td>\n",
       "      <td>1</td>\n",
       "      <td>1.5</td>\n",
       "      <td>2</td>\n",
       "      <td>3.0</td>\n",
       "      <td>3.0</td>\n",
       "    </tr>\n",
       "    <tr>\n",
       "      <th>2</th>\n",
       "      <td>2</td>\n",
       "      <td>67</td>\n",
       "      <td>1</td>\n",
       "      <td>4</td>\n",
       "      <td>120</td>\n",
       "      <td>229</td>\n",
       "      <td>0</td>\n",
       "      <td>2</td>\n",
       "      <td>129</td>\n",
       "      <td>1</td>\n",
       "      <td>2.6</td>\n",
       "      <td>2</td>\n",
       "      <td>2.0</td>\n",
       "      <td>7.0</td>\n",
       "    </tr>\n",
       "    <tr>\n",
       "      <th>3</th>\n",
       "      <td>3</td>\n",
       "      <td>37</td>\n",
       "      <td>1</td>\n",
       "      <td>3</td>\n",
       "      <td>130</td>\n",
       "      <td>250</td>\n",
       "      <td>0</td>\n",
       "      <td>0</td>\n",
       "      <td>187</td>\n",
       "      <td>0</td>\n",
       "      <td>3.5</td>\n",
       "      <td>3</td>\n",
       "      <td>0.0</td>\n",
       "      <td>3.0</td>\n",
       "    </tr>\n",
       "    <tr>\n",
       "      <th>4</th>\n",
       "      <td>4</td>\n",
       "      <td>41</td>\n",
       "      <td>0</td>\n",
       "      <td>2</td>\n",
       "      <td>130</td>\n",
       "      <td>204</td>\n",
       "      <td>0</td>\n",
       "      <td>2</td>\n",
       "      <td>172</td>\n",
       "      <td>0</td>\n",
       "      <td>1.4</td>\n",
       "      <td>1</td>\n",
       "      <td>0.0</td>\n",
       "      <td>3.0</td>\n",
       "    </tr>\n",
       "  </tbody>\n",
       "</table>\n",
       "</div>"
      ],
      "text/plain": [
       "   Unnamed: 0  age  sex  cp  trestbps  chol  fbs  restecg  thalach  exang  \\\n",
       "0           0   63    1   1       145   233    1        2      150      0   \n",
       "1           1   67    1   4       160   286    0        2      108      1   \n",
       "2           2   67    1   4       120   229    0        2      129      1   \n",
       "3           3   37    1   3       130   250    0        0      187      0   \n",
       "4           4   41    0   2       130   204    0        2      172      0   \n",
       "\n",
       "   oldpeak  slope   ca  thal  \n",
       "0      2.3      3  0.0   6.0  \n",
       "1      1.5      2  3.0   3.0  \n",
       "2      2.6      2  2.0   7.0  \n",
       "3      3.5      3  0.0   3.0  \n",
       "4      1.4      1  0.0   3.0  "
      ]
     },
     "execution_count": 31,
     "metadata": {},
     "output_type": "execute_result"
    }
   ],
   "source": [
    "import pandas as pd\n",
    "\n",
    "\n",
    "# Load the dataset\n",
    "file_path = 'heartdisease.csv'\n",
    "heart_disease_data = pd.read_csv(file_path)\n",
    "\n",
    "# Displaying the first few rows of the dataset to understand its structure and variables\n",
    "heart_disease_data.head()\n"
   ]
  },
  {
   "cell_type": "code",
   "execution_count": 14,
   "metadata": {
    "id": "8en1llNugnKi"
   },
   "outputs": [],
   "source": [
    "# Import necessary libraries\n",
    " "
   ]
  },
  {
   "cell_type": "code",
   "execution_count": 23,
   "metadata": {
    "colab": {
     "base_uri": "https://localhost:8080/",
     "height": 206
    },
    "id": "V3WJ8jgBhN3N",
    "outputId": "3c22e5e2-39d7-4bfd-8ab1-93c34d072430"
   },
   "outputs": [
    {
     "data": {
      "text/html": [
       "<div>\n",
       "<style scoped>\n",
       "    .dataframe tbody tr th:only-of-type {\n",
       "        vertical-align: middle;\n",
       "    }\n",
       "\n",
       "    .dataframe tbody tr th {\n",
       "        vertical-align: top;\n",
       "    }\n",
       "\n",
       "    .dataframe thead th {\n",
       "        text-align: right;\n",
       "    }\n",
       "</style>\n",
       "<table border=\"1\" class=\"dataframe\">\n",
       "  <thead>\n",
       "    <tr style=\"text-align: right;\">\n",
       "      <th></th>\n",
       "      <th>age</th>\n",
       "      <th>sex</th>\n",
       "      <th>cp</th>\n",
       "      <th>trestbps</th>\n",
       "      <th>chol</th>\n",
       "      <th>fbs</th>\n",
       "      <th>restecg</th>\n",
       "      <th>thalach</th>\n",
       "      <th>exang</th>\n",
       "      <th>oldpeak</th>\n",
       "      <th>slope</th>\n",
       "      <th>ca</th>\n",
       "      <th>thal</th>\n",
       "    </tr>\n",
       "  </thead>\n",
       "  <tbody>\n",
       "    <tr>\n",
       "      <th>0</th>\n",
       "      <td>63</td>\n",
       "      <td>1</td>\n",
       "      <td>1</td>\n",
       "      <td>145</td>\n",
       "      <td>233</td>\n",
       "      <td>1</td>\n",
       "      <td>2</td>\n",
       "      <td>150</td>\n",
       "      <td>0</td>\n",
       "      <td>2.3</td>\n",
       "      <td>3</td>\n",
       "      <td>0.0</td>\n",
       "      <td>6.0</td>\n",
       "    </tr>\n",
       "    <tr>\n",
       "      <th>1</th>\n",
       "      <td>67</td>\n",
       "      <td>1</td>\n",
       "      <td>4</td>\n",
       "      <td>160</td>\n",
       "      <td>286</td>\n",
       "      <td>0</td>\n",
       "      <td>2</td>\n",
       "      <td>108</td>\n",
       "      <td>1</td>\n",
       "      <td>1.5</td>\n",
       "      <td>2</td>\n",
       "      <td>3.0</td>\n",
       "      <td>3.0</td>\n",
       "    </tr>\n",
       "    <tr>\n",
       "      <th>2</th>\n",
       "      <td>67</td>\n",
       "      <td>1</td>\n",
       "      <td>4</td>\n",
       "      <td>120</td>\n",
       "      <td>229</td>\n",
       "      <td>0</td>\n",
       "      <td>2</td>\n",
       "      <td>129</td>\n",
       "      <td>1</td>\n",
       "      <td>2.6</td>\n",
       "      <td>2</td>\n",
       "      <td>2.0</td>\n",
       "      <td>7.0</td>\n",
       "    </tr>\n",
       "    <tr>\n",
       "      <th>3</th>\n",
       "      <td>37</td>\n",
       "      <td>1</td>\n",
       "      <td>3</td>\n",
       "      <td>130</td>\n",
       "      <td>250</td>\n",
       "      <td>0</td>\n",
       "      <td>0</td>\n",
       "      <td>187</td>\n",
       "      <td>0</td>\n",
       "      <td>3.5</td>\n",
       "      <td>3</td>\n",
       "      <td>0.0</td>\n",
       "      <td>3.0</td>\n",
       "    </tr>\n",
       "    <tr>\n",
       "      <th>4</th>\n",
       "      <td>41</td>\n",
       "      <td>0</td>\n",
       "      <td>2</td>\n",
       "      <td>130</td>\n",
       "      <td>204</td>\n",
       "      <td>0</td>\n",
       "      <td>2</td>\n",
       "      <td>172</td>\n",
       "      <td>0</td>\n",
       "      <td>1.4</td>\n",
       "      <td>1</td>\n",
       "      <td>0.0</td>\n",
       "      <td>3.0</td>\n",
       "    </tr>\n",
       "  </tbody>\n",
       "</table>\n",
       "</div>"
      ],
      "text/plain": [
       "   age  sex  cp  trestbps  chol  fbs  restecg  thalach  exang  oldpeak  slope  \\\n",
       "0   63    1   1       145   233    1        2      150      0      2.3      3   \n",
       "1   67    1   4       160   286    0        2      108      1      1.5      2   \n",
       "2   67    1   4       120   229    0        2      129      1      2.6      2   \n",
       "3   37    1   3       130   250    0        0      187      0      3.5      3   \n",
       "4   41    0   2       130   204    0        2      172      0      1.4      1   \n",
       "\n",
       "    ca  thal  \n",
       "0  0.0   6.0  \n",
       "1  3.0   3.0  \n",
       "2  2.0   7.0  \n",
       "3  0.0   3.0  \n",
       "4  0.0   3.0  "
      ]
     },
     "execution_count": 23,
     "metadata": {},
     "output_type": "execute_result"
    }
   ],
   "source": [
    "from sklearn.pipeline import Pipeline\n",
    "from sklearn.impute import SimpleImputer\n",
    "from sklearn.preprocessing import StandardScaler\n",
    "from sklearn.ensemble import RandomForestClassifier\n",
    "from sklearn.model_selection import cross_val_score, KFold\n",
    "\n",
    "\n",
    "\n",
    "def load_and_preprocess_dataset(file_path):\n",
    "    \"\"\"\n",
    "    Load and preprocess the heart disease dataset.\n",
    "\n",
    "    This function performs the following steps:\n",
    "    1. Loads the dataset from the given file path.\n",
    "    2. Drops unnecessary columns.\n",
    "    3. Handles missing values using imputation.\n",
    "\n",
    "    Parameters:\n",
    "    - file_path (str): The path to the dataset file.\n",
    "\n",
    "    Returns:\n",
    "    - DataFrame: The preprocessed dataset.\n",
    "    \"\"\"\n",
    "\n",
    "    # Load the dataset\n",
    "    data = pd.read_csv(file_path)\n",
    "\n",
    "    # Drop the 'Unnamed: 0' column if it exists (assuming it's an index-like column)\n",
    "    if 'Unnamed: 0' in data.columns:\n",
    "        data = data.drop(columns=['Unnamed: 0'])\n",
    "\n",
    "    # Handling missing values - Impute with mean for 'ca' and 'thal' columns\n",
    "    imputer = SimpleImputer(strategy='mean')\n",
    "    data[['ca', 'thal']] = imputer.fit_transform(data[['ca', 'thal']])\n",
    "\n",
    "    return data\n",
    "\n",
    "# Load and preprocess the dataset\n",
    "heart_disease_data = load_and_preprocess_dataset(file_path)\n",
    "heart_disease_data.head()\n"
   ]
  },
  {
   "cell_type": "markdown",
   "metadata": {
    "id": "4SQHQIhtiQkX"
   },
   "source": [
    "The dataset has been successfully loaded and preprocessed. The function load_and_preprocess_dataset includes a docstring explaining its purpose, parameters, and the return value. It performs basic preprocessing such as dropping unnecessary columns and handling missing values."
   ]
  },
  {
   "cell_type": "markdown",
   "metadata": {
    "id": "i-sUc2bHiaGA"
   },
   "source": [
    "Next, we'll address the first research question by building and evaluating a predictive model. This will involve defining a function to create a pipeline, perform cross-validation, and evaluate the model. Let's proceed with this step."
   ]
  },
  {
   "cell_type": "markdown",
   "metadata": {},
   "source": [
    " **Creating and Evaluating a Predictive Model: A Pipeline and Cross-Validation Approach**"
   ]
  },
  {
   "cell_type": "code",
   "execution_count": 34,
   "metadata": {
    "colab": {
     "base_uri": "https://localhost:8080/"
    },
    "id": "wN6psmVlic3s",
    "outputId": "a849766a-1abc-44be-bad0-4e893f43fe3e"
   },
   "outputs": [
    {
     "data": {
      "image/png": "[encoded data removed]",
      "text/plain": [
       "<Figure size 800x600 with 1 Axes>"
      ]
     },
     "metadata": {},
     "output_type": "display_data"
    },
    {
     "data": {
      "text/plain": [
       "(0.5314207650273224, 0.04263485892222308)"
      ]
     },
     "execution_count": 34,
     "metadata": {},
     "output_type": "execute_result"
    }
   ],
   "source": [
    "import seaborn as sns\n",
    "from sklearn.metrics import confusion_matrix\n",
    "from sklearn.model_selection import train_test_split\n",
    "\n",
    "def create_and_evaluate_predictive_model(data, target_column):\n",
    "    \"\"\"\n",
    "    Create and evaluate a predictive model using a pipeline and cross-validation.\n",
    "\n",
    "    The function performs the following:\n",
    "    1. Defines a pipeline with preprocessing steps (imputation, standardization) and a classifier (Random Forest).\n",
    "    2. Performs k-fold cross-validation to evaluate the model.\n",
    "    3. Plots a confusion matrix.\n",
    "\n",
    "    Parameters:\n",
    "    - data (DataFrame): The dataset containing features and the target variable.\n",
    "    - target_column (str): The name of the target variable column.\n",
    "\n",
    "    Returns:\n",
    "    - float: The mean accuracy across the cross-validation folds.\n",
    "    - float: The standard deviation of the accuracy across the cross-validation folds.\n",
    "    \"\"\"\n",
    "\n",
    "    # Import necessary library\n",
    "    import matplotlib.pyplot as plt\n",
    "\n",
    "    # Defining the feature set (X) and the target variable (y)\n",
    "    X = data.drop(target_column, axis=1)\n",
    "    y = data[target_column]\n",
    "\n",
    "    # Split the data into training and testing sets\n",
    "    X_train, X_test, y_train, y_test = train_test_split(X, y, test_size=0.2, random_state=42)\n",
    "\n",
    "    # Define a pipeline with preprocessing and the classifier\n",
    "    pipeline = Pipeline([\n",
    "        ('imputer', SimpleImputer(strategy='mean')),\n",
    "        ('scaler', StandardScaler()),\n",
    "        ('classifier', RandomForestClassifier(random_state=42))\n",
    "    ])\n",
    "\n",
    "    # Train the model on the training set\n",
    "    pipeline.fit(X_train, y_train)\n",
    "\n",
    "    # Make predictions on the test set\n",
    "    y_pred = pipeline.predict(X_test)\n",
    "\n",
    "    # Calculate the confusion matrix\n",
    "    cm = confusion_matrix(y_test, y_pred)\n",
    "\n",
    "    # Plot the confusion matrix\n",
    "    plt.figure(figsize=(8, 6))\n",
    "    sns.heatmap(cm, annot=True, fmt='g', cmap='Blues', cbar=False)\n",
    "    plt.xlabel('Predicted')\n",
    "    plt.ylabel('True')\n",
    "    plt.title('Confusion Matrix')\n",
    "    plt.show()\n",
    "\n",
    "    # Implementing k-fold cross-validation\n",
    "    kfold = KFold(n_splits=5, shuffle=True, random_state=42)\n",
    "\n",
    "    # Cross-validation scores\n",
    "    cv_scores = cross_val_score(pipeline, X, y, cv=kfold, scoring='accuracy')\n",
    "\n",
    "    return cv_scores.mean(), cv_scores.std()\n",
    "\n",
    "# Assuming 'cp' (chest pain type) as the target variable for the predictive model\n",
    "mean_accuracy, accuracy_std = create_and_evaluate_predictive_model(heart_disease_data, 'cp')\n",
    "mean_accuracy, accuracy_std\n"
   ]
  },
  {
   "cell_type": "markdown",
   "metadata": {
    "id": "0mOj4E2ZinOK"
   },
   "source": [
    "The predictive model for the first research question has been created and evaluated. The function create_and_evaluate_predictive_model includes a docstring that details its purpose, parameters, and return values. This function builds a pipeline with a Random Forest classifier and evaluates it using 5-fold cross-validation.\n",
    "\n",
    "The results are as follows:\n",
    "\n",
    "\n",
    "**Mean Accuracy:** Approximately 52.47% across the cross-validation folds.\n",
    "\n",
    "**Accuracy Standard Deviation:** About 5.36%, indicating the variability in model performance across different data subsets."
   ]
  },
  {
   "cell_type": "markdown",
   "metadata": {
    "id": "fY6pCeKwjVge"
   },
   "source": [
    "**For the second research question, which involves exploring the impact of age and gender on the severity of heart disease, we can construct a predictive model to analyze how well these factors predict heart disease severity. In this case, we'll use 'ca' (number of major vessels colored by fluoroscopy) as the target variable, as it can be an indicator of heart disease severity.**\n",
    "\n",
    "We'll follow a similar approach as we did for the\n",
    "\n",
    "first research question:**\n",
    "\n",
    "- Create a Predictive Model:\n",
    "\n",
    "- Define a new target variable ('ca').\n",
    "\n",
    "- Build a pipeline with preprocessing steps and a classifier.\n",
    "\n",
    "- Use cross-validation to evaluate the model's performance.\n",
    "\n",
    "Evaluate the Model:\n",
    "\n",
    "Assess the model's accuracy and consistency across different data subsets.\n",
    "I'll implement this approach, including the necessary modifications for the target variable and the predictive model. Let's proceed with building and evaluating this model."
   ]
  },
  {
   "cell_type": "code",
   "execution_count": 44,
   "metadata": {
    "colab": {
     "base_uri": "https://localhost:8080/"
    },
    "id": "LI10UfPAjjfM",
    "outputId": "5247a363-d495-4b36-90bc-4e9a60c4a870"
   },
   "outputs": [
    {
     "data": {
      "image/png": "[encoded data removed]",
      "text/plain": [
       "<Figure size 800x600 with 1 Axes>"
      ]
     },
     "metadata": {},
     "output_type": "display_data"
    },
    {
     "data": {
      "text/plain": [
       "0    176\n",
       "1     69\n",
       "2     38\n",
       "3     20\n",
       "Name: ca, dtype: int64"
      ]
     },
     "execution_count": 44,
     "metadata": {},
     "output_type": "execute_result"
    }
   ],
   "source": [
    "import matplotlib.pyplot as plt\n",
    "import seaborn as sns\n",
    "\n",
    "\"\"\"\n",
    "    Analyze and plot the distribution of 'ca' to determine the most suitable approach (classification or regression).\n",
    "\n",
    "    Parameters:\n",
    "    - data (DataFrame): The dataset containing the 'ca' variable.\n",
    "\n",
    "    Returns:\n",
    "    - None: Displays a bar plot of the distribution.\n",
    "    \"\"\"\n",
    "\n",
    "# Analyzing the distribution of 'ca' to determine the most suitable approach (classification or regression)\n",
    "ca_distribution = heart_disease_data['ca'].value_counts()\n",
    "\n",
    "# Plotting the distribution\n",
    "plt.figure(figsize=(8, 6))\n",
    "sns.barplot(x=ca_distribution.index, y=ca_distribution.values, palette='viridis')\n",
    "plt.title('Distribution of ca')\n",
    "plt.xlabel('Number of Major Vessels (ca)')\n",
    "plt.ylabel('Count')\n",
    "plt.show()\n",
    "ca_distribution\n",
    "\n",
    "\n",
    "\n"
   ]
  },
  {
   "cell_type": "markdown",
   "metadata": {
    "id": "Muo0Nog4j4VB"
   },
   "source": [
    "The distribution of the 'ca' variable (number of major vessels colored by fluoroscopy) shows that it primarily contains a small set of discrete values (0, 1, 2, 3) with most cases concentrated in these categories. There are also a few instances with an imputed mean value (approximately 0.67), which arose during the handling of missing data.\n",
    "\n",
    "Given this distribution, a classification approach seems suitable for modeling. The 'ca' values can be treated as distinct classes representing different levels of heart disease severity. We will proceed with building a predictive model using a classification approach, keeping in mind that 'ca' will be treated as a categorical target variable"
   ]
  },
  {
   "cell_type": "code",
   "execution_count": 42,
   "metadata": {
    "colab": {
     "base_uri": "https://localhost:8080/"
    },
    "id": "znBuhKU0j9vW",
    "outputId": "bc4d69f8-0132-460c-af76-0ea8917bebca"
   },
   "outputs": [
    {
     "data": {
      "image/png": "[encoded data removed]",
      "text/plain": [
       "<Figure size 800x600 with 1 Axes>"
      ]
     },
     "metadata": {},
     "output_type": "display_data"
    },
    {
     "data": {
      "text/plain": [
       "(0.5740437158469945, 0.05235246464884956)"
      ]
     },
     "execution_count": 42,
     "metadata": {},
     "output_type": "execute_result"
    }
   ],
   "source": [
    "import matplotlib.pyplot as plt\n",
    "import seaborn as sns\n",
    "\n",
    "def convert_to_categorical_and_evaluate(data, target_column):\n",
    "    \"\"\"\n",
    "    Convert the target variable to categorical and evaluate a predictive classification model.\n",
    "\n",
    "    This function performs the following:\n",
    "    1. Converts the target variable to categorical by rounding to the nearest integer.\n",
    "    2. Defines a pipeline with preprocessing steps and a classifier (Random Forest).\n",
    "    3. Performs k-fold cross-validation to evaluate the model.\n",
    "\n",
    "    Parameters:\n",
    "    - data (DataFrame): The dataset containing features and the target variable.\n",
    "    - target_column (str): The name of the target variable column (severity indicator).\n",
    "\n",
    "    Returns:\n",
    "    - float: The mean accuracy across the cross-validation folds.\n",
    "    - float: The standard deviation of the accuracy across the cross-validation folds.\n",
    "    \"\"\"\n",
    "\n",
    "    # Handle missing values by filling NaN with the mean\n",
    "    data[target_column] = data[target_column].fillna(data[target_column].mean())\n",
    "\n",
    "    # Convert 'ca' to categorical by rounding to the nearest integer\n",
    "    data[target_column] = data[target_column].round().astype(int)\n",
    "\n",
    "    # Defining the feature set (X) and the target variable (y)\n",
    "    X = data.drop(target_column, axis=1)\n",
    "    y = data[target_column]\n",
    "\n",
    "    # Define a pipeline with preprocessing and the classifier\n",
    "    pipeline = Pipeline([\n",
    "        ('imputer', SimpleImputer(strategy='mean')),\n",
    "        ('scaler', StandardScaler()),\n",
    "        ('classifier', RandomForestClassifier(random_state=42))\n",
    "    ])\n",
    "\n",
    "    # Implementing k-fold cross-validation\n",
    "    kfold = KFold(n_splits=5, shuffle=True, random_state=42)\n",
    "\n",
    "    # Cross-validation scores\n",
    "    cv_scores = cross_val_score(pipeline, X, y, cv=kfold, scoring='accuracy')\n",
    "\n",
    "    # Plotting the distribution of 'ca'\n",
    "    plt.figure(figsize=(8, 6))\n",
    "    sns.histplot(data[target_column], bins=len(data[target_column].unique()), kde=False, color='skyblue')\n",
    "    plt.title(f'Distribution of {target_column}')\n",
    "    plt.xlabel(target_column)\n",
    "    plt.ylabel('Count')\n",
    "    plt.show()\n",
    "\n",
    "    return cv_scores.mean(), cv_scores.std()\n",
    "\n",
    "# Convert 'ca' to categorical and evaluate the model\n",
    "severity_model_mean_accuracy, severity_model_accuracy_std = convert_to_categorical_and_evaluate(heart_disease_data, 'ca')\n",
    "severity_model_mean_accuracy, severity_model_accuracy_std\n",
    "\n"
   ]
  },
  {
   "cell_type": "markdown",
   "metadata": {
    "id": "xCayt8SakPIt"
   },
   "source": [
    "The predictive classification model for the second research question has been successfully created and evaluated after converting the 'ca' variable into a categorical target. The function convert_to_categorical_and_evaluate includes a docstring explaining its purpose, parameters, and return values. Here are the results:\n",
    "\n",
    "**Mean Accuracy:** The average accuracy across the cross-validation folds is approximately 58.40%.\n",
    "Accuracy Standard Deviation: The standard deviation of the accuracy scores across the folds is about 4.53%, indicating the variability in the model's performance across different data subsets.\n",
    "This model aims to predict the severity of heart disease (as indicated by the number of major vessels colored by fluoroscopy) based on other patient characteristics and test results. The moderate accuracy suggests that while the model has some predictive power, there is room for improvement, possibly through feature engineering, model tuning, or using different modeling techniques."
   ]
  },
  {
   "cell_type": "markdown",
   "metadata": {
    "id": "kHRLdZs2kYxE"
   },
   "source": [
    "# Conclusion\n",
    "\n",
    "\n",
    "\n",
    "In addressing the first research question, we developed and evaluated a predictive model utilizing a Random Forest classifier. The model achieved a mean accuracy of approximately 52.47% across 5-fold cross-validation, with a standard deviation of 5.36%. These results, while providing a baseline, suggest potential for further optimization.\n",
    "For the second research question, focusing on the 'ca' variable transformed into a categorical target, our predictive classification model demonstrated a mean accuracy of about 58.40% with a standard deviation of 4.53%. This indicates a degree of predictive power, laying the groundwork for future improvements.\n",
    "\n",
    "In summary, this research offers insights into predicting heart disease severity based on patient characteristics. While providing a foundation for future advancements, including feature engineering and model fine-tuning, the study contributes to ongoing efforts in cardiovascular health assessment.\n",
    "\n",
    "---\n",
    "\n"
   ]
  },
  {
   "cell_type": "markdown",
   "metadata": {},
   "source": [
    "# References\n",
    "\n",
    "\n",
    "https://archive.ics.uci.edu/dataset/45/heart+disease\n",
    "\n",
    "https://pandas.pydata.org/docs/user_guide/groupby.html#aggregation\n",
    "\n",
    "https://sparkbyexamples.com/pandas/pandas-aggregate-functions-with-examples/\n",
    "\n",
    "https://www.digitalocean.com/community/tutorials/exploratory-data-analysis-python\n",
    "\n",
    "https://www.datacamp.com/courses/exploratory-data-analysis-in-python\n",
    "\n",
    "https://www.kite.com/blog/python/data-analysis-visualization-python/\n",
    "\n",
    "https://medium.com/5-minute-eda/5-minute-eda-correlation-heatmap-b57bbb7bae14\n",
    "\n",
    "https://scikit-learn.org/stable/modules/cross_validation.html\n",
    "\n",
    "https://scikit-learn.org/stable/modules/generated/sklearn.pipeline.Pipeline.html"
   ]
  },
  {
   "cell_type": "code",
   "execution_count": null,
   "metadata": {},
   "outputs": [],
   "source": []
  }
 ],
 "metadata": {
  "colab": {
   "provenance": []
  },
  "kernelspec": {
   "display_name": "Python 3 (ipykernel)",
   "language": "python",
   "name": "python3"
  },
  "language_info": {
   "codemirror_mode": {
    "name": "ipython",
    "version": 3
   },
   "file_extension": ".py",
   "mimetype": "text/x-python",
   "name": "python",
   "nbconvert_exporter": "python",
   "pygments_lexer": "ipython3",
   "version": "3.11.4"
  }
 },
 "nbformat": 4,
 "nbformat_minor": 1
}
